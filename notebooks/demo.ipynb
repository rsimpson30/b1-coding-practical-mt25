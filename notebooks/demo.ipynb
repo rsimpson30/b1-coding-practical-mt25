{
 "cells": [
  {
   "cell_type": "code",
   "execution_count": 4,
   "metadata": {},
   "outputs": [],
   "source": [
    "# Add relevant Jupyter notebook extensions\n",
    "%load_ext autoreload\n",
    "%autoreload 2"
   ]
  },
  {
   "cell_type": "code",
   "execution_count": 3,
   "metadata": {},
   "outputs": [
    {
     "name": "stdout",
     "output_type": "stream",
     "text": [
      "['C:\\\\Users\\\\My Laptop\\\\anaconda3\\\\python312.zip', 'C:\\\\Users\\\\My Laptop\\\\anaconda3\\\\DLLs', 'C:\\\\Users\\\\My Laptop\\\\anaconda3\\\\Lib', 'C:\\\\Users\\\\My Laptop\\\\anaconda3', 'c:\\\\Users\\\\My Laptop\\\\.venvs\\\\b1venv', '', 'c:\\\\Users\\\\My Laptop\\\\.venvs\\\\b1venv\\\\Lib\\\\site-packages']\n"
     ]
    }
   ],
   "source": [
    "# You can double-check your Python path like this...\n",
    "import sys  \n",
    "print(sys.path)"
   ]
  },
  {
   "cell_type": "markdown",
   "metadata": {},
   "source": [
    "# Simulate closed-loop\n",
    "After implementing your control functionality, you can simulate the closed-loop with code that looks something like this..."
   ]
  },
  {
   "cell_type": "code",
   "execution_count": null,
   "metadata": {},
   "outputs": [
    {
     "ename": "NameError",
     "evalue": "name 'ClosedLoop' is not defined",
     "output_type": "error",
     "traceback": [
      "\u001b[31m---------------------------------------------------------------------------\u001b[39m",
      "\u001b[31mNameError\u001b[39m                                 Traceback (most recent call last)",
      "\u001b[36mCell\u001b[39m\u001b[36m \u001b[39m\u001b[32mIn[1]\u001b[39m\u001b[32m, line 7\u001b[39m\n\u001b[32m      5\u001b[39m sub = uuv.Submarine()\n\u001b[32m      6\u001b[39m \u001b[38;5;66;03m# Instantiate your controller (depending on your implementation)\u001b[39;00m\n\u001b[32m----> \u001b[39m\u001b[32m7\u001b[39m closed_loop = \u001b[43mClosedLoop\u001b[49m(sub, controller)\n\u001b[32m      8\u001b[39m mission = Mission.from_csv(\u001b[33m\"\u001b[39m\u001b[33mpath/to/file\u001b[39m\u001b[33m\"\u001b[39m) \u001b[38;5;66;03m# You must implement this method in the Mission class\u001b[39;00m\n\u001b[32m     10\u001b[39m trajectory = closed_loop.simulate_with_random_disturbances(mission)\n",
      "\u001b[31mNameError\u001b[39m: name 'ClosedLoop' is not defined"
     ]
    }
   ],
   "source": [
    "# Import relevant modules\n",
    "\n",
    "import uuv_mission as uuv\n",
    "\n",
    "sub = uuv.Submarine()\n",
    "# Instantiate your controller (depending on your implementation)\n",
    "closed_loop = uuv.ClosedLoop(sub, controller)\n",
    "mission = uuv.Mission.from_csv(\"path/to/file\") # You must implement this method in the Mission class\n",
    "\n",
    "trajectory = closed_loop.simulate_with_random_disturbances(mission)\n",
    "trajectory.plot_completed_mission(mission)"
   ]
  }
 ],
 "metadata": {
  "kernelspec": {
   "display_name": "b1venv",
   "language": "python",
   "name": "python3"
  },
  "language_info": {
   "codemirror_mode": {
    "name": "ipython",
    "version": 3
   },
   "file_extension": ".py",
   "mimetype": "text/x-python",
   "name": "python",
   "nbconvert_exporter": "python",
   "pygments_lexer": "ipython3",
   "version": "3.12.4"
  }
 },
 "nbformat": 4,
 "nbformat_minor": 2
}
